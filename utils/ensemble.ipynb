{
 "cells": [
  {
   "metadata": {},
   "cell_type": "code",
   "outputs": [],
   "execution_count": null,
   "source": "import pandas as pd",
   "id": "ed434814c98ddf24"
  },
  {
   "cell_type": "code",
   "execution_count": null,
   "id": "initial_id",
   "metadata": {
    "collapsed": true
   },
   "outputs": [],
   "source": [
    "# file_path_01 = 'en/test_output_train_01.csv'\n",
    "file_path_02 = 'en/test_output_train_02.csv'\n",
    "file_path_03 = 'en/test_output_train_03.csv'\n",
    "\n",
    "# data_01 = pd.read_csv(file_path_01)\n",
    "data_02 = pd.read_csv(file_path_02)\n",
    "data_03 = pd.read_csv(file_path_03)\n",
    "\n",
    "# mean_target = (data_01['target'] + data_02['target'] + data_03['target']) / 3\n",
    "mean_target = (data_02['target'] + data_03['target']) / 2\n",
    "\n",
    "data_02['target'] = mean_target.round(1)"
   ]
  },
  {
   "metadata": {},
   "cell_type": "code",
   "outputs": [],
   "execution_count": null,
   "source": [
    "output_path = 'en/output_ensemble_2.csv'\n",
    "data_02.to_csv(output_path, index=False)"
   ],
   "id": "19829cecd109993e"
  }
 ],
 "metadata": {
  "kernelspec": {
   "display_name": "Python 3",
   "language": "python",
   "name": "python3"
  },
  "language_info": {
   "codemirror_mode": {
    "name": "ipython",
    "version": 2
   },
   "file_extension": ".py",
   "mimetype": "text/x-python",
   "name": "python",
   "nbconvert_exporter": "python",
   "pygments_lexer": "ipython2",
   "version": "2.7.6"
  }
 },
 "nbformat": 4,
 "nbformat_minor": 5
}
