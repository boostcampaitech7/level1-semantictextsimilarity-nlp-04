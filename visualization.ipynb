{
 "cells": [
  {
   "cell_type": "code",
   "execution_count": 14,
   "metadata": {},
   "outputs": [],
   "source": [
    "# 라이브러리\n",
    "import pandas as pd\n",
    "import seaborn as sns"
   ]
  },
  {
   "cell_type": "code",
   "execution_count": 18,
   "metadata": {},
   "outputs": [
    {
     "name": "stdout",
     "output_type": "stream",
     "text": [
      "                               id            source  \\\n",
      "0      boostcamp-sts-v1-train-000      nsmc-sampled   \n",
      "1      boostcamp-sts-v1-train-001         slack-rtt   \n",
      "2      boostcamp-sts-v1-train-002  petition-sampled   \n",
      "3      boostcamp-sts-v1-train-003     slack-sampled   \n",
      "4      boostcamp-sts-v1-train-004     slack-sampled   \n",
      "...                           ...               ...   \n",
      "9319  boostcamp-sts-v1-train-9319  petition-sampled   \n",
      "9320  boostcamp-sts-v1-train-9320  petition-sampled   \n",
      "9321  boostcamp-sts-v1-train-9321  petition-sampled   \n",
      "9322  boostcamp-sts-v1-train-9322     slack-sampled   \n",
      "9323  boostcamp-sts-v1-train-9323  petition-sampled   \n",
      "\n",
      "                                  sentence_1  \\\n",
      "0     스릴도있고 반전도 있고 여느 한국영화 쓰레기들하고는 차원이 다르네요~   \n",
      "1                       앗 제가 접근권한이 없다고 뜹니다;;   \n",
      "2                             주택청약조건 변경해주세요.   \n",
      "3                     입사후 처음 대면으로 만나 반가웠습니다.   \n",
      "4                                 뿌듯뿌듯 하네요!!   \n",
      "...                                      ...   \n",
      "9319    교원능력개발평가에서 교원이 보호받을 수 있는 장치를 마련해야합니다   \n",
      "9320                         여성가족부의 폐지를 원합니드   \n",
      "9321                         국회의원들 월급좀 줄여주세요   \n",
      "9322           오늘 못한 점심은 다음에 다시 츄라이 하기로 해요!!   \n",
      "9323                        법정공휴일 휴무관련 (근로자)   \n",
      "\n",
      "                                         sentence_2  label  binary-label  \n",
      "0                              반전도 있고,사랑도 있고재미도있네요.    2.2           0.0  \n",
      "1                               오, 액세스 권한이 없다고 합니다.    4.2           1.0  \n",
      "2                                주택청약 무주택기준 변경해주세요.    2.4           0.0  \n",
      "3                      화상으로만 보다가 리얼로 만나니 정말 반가웠습니다.    3.0           1.0  \n",
      "4                             꼬옥 실제로 한번 뵈어요 뿌뿌뿌~!~!    0.0           0.0  \n",
      "...                                             ...    ...           ...  \n",
      "9319  본인이 납부한 국민연금 금액을 기준으로 대출을 받을 수 있는 제도를 마련해 주세요    0.2           0.0  \n",
      "9320                              여성가족부 폐지를 청원 합니다.    4.2           1.0  \n",
      "9321                               공무원 봉급좀 줄이지좀 마세요    0.6           0.0  \n",
      "9322                       오늘 못먹은 밥은 꼭 담에 먹기로 하고요!!    3.2           1.0  \n",
      "9323                         법정공휴일의 유급휴무화를 막아야 합니다.    1.4           0.0  \n",
      "\n",
      "[9324 rows x 6 columns]\n"
     ]
    }
   ],
   "source": [
    "# 경로\n",
    "path = './data/train.csv'\n",
    "\n",
    "# 데이터 가져오기\n",
    "data = pd.read_csv(path)\n",
    "\n",
    "print(data)"
   ]
  },
  {
   "cell_type": "code",
   "execution_count": 19,
   "metadata": {},
   "outputs": [
    {
     "data": {
      "text/plain": [
       "<Axes: xlabel='label', ylabel='Count'>"
      ]
     },
     "execution_count": 19,
     "metadata": {},
     "output_type": "execute_result"
    },
    {
     "data": {
      "image/png": "[encoded data removed]",
      "text/plain": [
       "<Figure size 640x480 with 1 Axes>"
      ]
     },
     "metadata": {},
     "output_type": "display_data"
    }
   ],
   "source": [
    "sns.histplot(data['label'])"
   ]
  },
  {
   "cell_type": "code",
   "execution_count": 5,
   "metadata": {},
   "outputs": [
    {
     "name": "stdout",
     "output_type": "stream",
     "text": [
      "0925_1427\n"
     ]
    }
   ],
   "source": [
    "from datetime import datetime\n",
    "\n",
    "print(datetime.now().strftime(\"%m%d_%H%M\"))\n"
   ]
  },
  {
   "cell_type": "code",
   "execution_count": 7,
   "metadata": {},
   "outputs": [],
   "source": [
    "import json\n",
    "\n",
    "with open('./wandb/run-20240923_074828-ferfqowi/files/wandb-summary.json', encoding='utf-8') as f:\n",
    "    log_data = json.load(f)"
   ]
  },
  {
   "cell_type": "code",
   "execution_count": 8,
   "metadata": {},
   "outputs": [
    {
     "data": {
      "text/plain": [
       "{'_timestamp': 1727078597.7910469,\n",
       " 'test_pearson_step': 0.9502039551734924,\n",
       " '_step': 1579,\n",
       " 'train_pearson_step': 0.9934902787208557,\n",
       " 'train_pearson_epoch': 0.9855532050132751,\n",
       " 'train_loss_epoch': 0.116203673183918,\n",
       " '_wandb': {'runtime': 954},\n",
       " 'train_loss_step': 0.04492662847042084,\n",
       " 'val_pearson_epoch': 0.9173089861869812,\n",
       " 'trainer/global_step': 1460,\n",
       " 'test_pearson_epoch': 0.9173089861869812,\n",
       " 'epoch': 10,\n",
       " 'val_pearson_step': 0.9502039551734924,\n",
       " '_runtime': 888.868122585,\n",
       " 'val_loss': 0.3579222857952118}"
      ]
     },
     "execution_count": 8,
     "metadata": {},
     "output_type": "execute_result"
    }
   ],
   "source": [
    "log_data"
   ]
  },
  {
   "cell_type": "code",
   "execution_count": 11,
   "metadata": {},
   "outputs": [],
   "source": [
    "import yaml\n",
    "\n",
    "with open('./config/config.yaml', encoding='utf-8') as f:\n",
    "    CFG = yaml.load(f, Loader=yaml.FullLoader)"
   ]
  },
  {
   "cell_type": "code",
   "execution_count": 13,
   "metadata": {},
   "outputs": [
    {
     "data": {
      "text/plain": [
       "2"
      ]
     },
     "execution_count": 13,
     "metadata": {},
     "output_type": "execute_result"
    }
   ],
   "source": [
    "len(CFG['inference']['model_file_name'])\n",
    "    "
   ]
  },
  {
   "cell_type": "code",
   "execution_count": 14,
   "metadata": {},
   "outputs": [
    {
     "data": {
      "text/plain": [
       "[True, False, True]"
      ]
     },
     "execution_count": 14,
     "metadata": {},
     "output_type": "execute_result"
    }
   ],
   "source": [
    "CFG['inference']['postprocessing_list']"
   ]
  }
 ],
 "metadata": {
  "kernelspec": {
   "display_name": "upstage",
   "language": "python",
   "name": "python3"
  },
  "language_info": {
   "codemirror_mode": {
    "name": "ipython",
    "version": 3
   },
   "file_extension": ".py",
   "mimetype": "text/x-python",
   "name": "python",
   "nbconvert_exporter": "python",
   "pygments_lexer": "ipython3",
   "version": "3.9.19"
  }
 },
 "nbformat": 4,
 "nbformat_minor": 2
}
